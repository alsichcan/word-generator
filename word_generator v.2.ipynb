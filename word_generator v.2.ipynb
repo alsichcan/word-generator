{
 "cells": [
  {
   "cell_type": "code",
   "execution_count": 7,
   "id": "f7224563",
   "metadata": {},
   "outputs": [
    {
     "name": "stdout",
     "output_type": "stream",
     "text": [
      "Enter Number of groups : 4\n",
      "Enter words of group 1 : a b c d\n",
      "Enter words of group 2 : e f g h\n",
      "Enter words of group 3 : i j k l\n",
      "Enter words of group 4 : m n o p\n",
      "Enter any key to exit: k\n"
     ]
    }
   ],
   "source": [
    "from itertools import permutations, combinations\n",
    "\n",
    "groups = []\n",
    "n = int(input(\"Enter Number of groups : \"))\n",
    "\n",
    "for i in range(n):\n",
    "    group = input(\"Enter words of group %d : \" %(i+1)).split(\" \")\n",
    "    groups.append(group)\n",
    "\n",
    "curr_index = [0 for i in range(len(groups))] \n",
    "\n",
    "results = []\n",
    "finished = False\n",
    "\n",
    "# Iterate through whole combinations of words from each group\n",
    "while not finished:\n",
    "    # Pick one word from each group\n",
    "    hands = []\n",
    "    for idx in range(n):\n",
    "        hands.append(groups[idx][curr_index[idx]])\n",
    "\n",
    "    # Generate words from hand (2 <= length <= 6)\n",
    "    for size in range(2, n+1):\n",
    "        if size > 7:\n",
    "            break\n",
    "        combs = combinations(hands, size)\n",
    "        for comb in combs:\n",
    "            perms = [''.join(p) for p in permutations(comb)]\n",
    "            results.append(list(perms))\n",
    "        \n",
    "    # Update index\n",
    "    idx = -1;\n",
    "    carry = True;\n",
    "    while(carry):\n",
    "        if(idx == -1 * n):\n",
    "            finished = True\n",
    "            break\n",
    "        \n",
    "        if(curr_index[idx] != 3):\n",
    "            curr_index[idx] += 1\n",
    "            carry = False\n",
    "        else:\n",
    "            curr_index[idx] = 0\n",
    "            carry = True\n",
    "            idx -= 1\n",
    "        \n",
    "# Output result to text file (Sort by length not provided)\n",
    "out = open(\"result.txt\", \"w\", -1, 'utf-8')\n",
    "for word_set in results:\n",
    "    for word in word_set:\n",
    "        out.write(word)\n",
    "        out.write(\"\\n\")\n",
    "out.close()\n",
    "\n",
    "exit = input(\"Enter any key to exit: \")"
   ]
  },
  {
   "cell_type": "code",
   "execution_count": null,
   "id": "68ac1f18",
   "metadata": {},
   "outputs": [],
   "source": []
  }
 ],
 "metadata": {
  "kernelspec": {
   "display_name": "Python 3",
   "language": "python",
   "name": "python3"
  },
  "language_info": {
   "codemirror_mode": {
    "name": "ipython",
    "version": 3
   },
   "file_extension": ".py",
   "mimetype": "text/x-python",
   "name": "python",
   "nbconvert_exporter": "python",
   "pygments_lexer": "ipython3",
   "version": "3.7.10"
  }
 },
 "nbformat": 4,
 "nbformat_minor": 5
}
