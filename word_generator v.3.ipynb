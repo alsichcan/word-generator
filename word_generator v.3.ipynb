{
 "cells": [
  {
   "cell_type": "code",
   "execution_count": 9,
   "id": "331df36a",
   "metadata": {},
   "outputs": [
    {
     "name": "stdout",
     "output_type": "stream",
     "text": [
      "Enter Number of groups : 4\n",
      "Enter words of group 1 : a b c d A B C D\n",
      "Enter words of group 2 : e f g h E F G H\n",
      "Enter words of group 3 : i j k l I J K L\n",
      "Enter words of group 4 : m n o p M N O P\n",
      "[['ae', 'ea'], ['ai', 'ia'], ['am', 'ma'], ['ei', 'ie'], ['em', 'me'], ['im', 'mi'], ['aei', 'aie', 'eai', 'eia', 'iae', 'iea'], ['aem', 'ame', 'eam', 'ema', 'mae', 'mea'], ['aim', 'ami', 'iam', 'ima', 'mai', 'mia'], ['eim', 'emi', 'iem', 'ime', 'mei', 'mie'], ['aeim', 'aemi', 'aiem', 'aime', 'amei', 'amie', 'eaim', 'eami', 'eiam', 'eima', 'emai', 'emia', 'iaem', 'iame', 'ieam', 'iema', 'imae', 'imea', 'maei', 'maie', 'meai', 'meia', 'miae', 'miea'], ['ae', 'ea'], ['ai', 'ia'], ['aM', 'Ma'], ['ei', 'ie'], ['eM', 'Me'], ['iM', 'Mi'], ['aei', 'aie', 'eai', 'eia', 'iae', 'iea'], ['aeM', 'aMe', 'eaM', 'eMa', 'Mae', 'Mea'], ['aiM', 'aMi', 'iaM', 'iMa', 'Mai', 'Mia'], ['eiM', 'eMi', 'ieM', 'iMe', 'Mei', 'Mie'], ['aeiM', 'aeMi', 'aieM', 'aiMe', 'aMei', 'aMie', 'eaiM', 'eaMi', 'eiaM', 'eiMa', 'eMai', 'eMia', 'iaeM', 'iaMe', 'ieaM', 'ieMa', 'iMae', 'iMea', 'Maei', 'Maie', 'Meai', 'Meia', 'Miae', 'Miea'], ['ae', 'ea'], ['aI', 'Ia'], ['am', 'ma'], ['eI', 'Ie'], ['em', 'me'], ['Im', 'mI'], ['aeI', 'aIe', 'eaI', 'eIa', 'Iae', 'Iea'], ['aem', 'ame', 'eam', 'ema', 'mae', 'mea'], ['aIm', 'amI', 'Iam', 'Ima', 'maI', 'mIa'], ['eIm', 'emI', 'Iem', 'Ime', 'meI', 'mIe'], ['aeIm', 'aemI', 'aIem', 'aIme', 'ameI', 'amIe', 'eaIm', 'eamI', 'eIam', 'eIma', 'emaI', 'emIa', 'Iaem', 'Iame', 'Ieam', 'Iema', 'Imae', 'Imea', 'maeI', 'maIe', 'meaI', 'meIa', 'mIae', 'mIea'], ['ae', 'ea'], ['aI', 'Ia'], ['aM', 'Ma'], ['eI', 'Ie'], ['eM', 'Me'], ['IM', 'MI'], ['aeI', 'aIe', 'eaI', 'eIa', 'Iae', 'Iea'], ['aeM', 'aMe', 'eaM', 'eMa', 'Mae', 'Mea'], ['aIM', 'aMI', 'IaM', 'IMa', 'MaI', 'MIa'], ['eIM', 'eMI', 'IeM', 'IMe', 'MeI', 'MIe'], ['aeIM', 'aeMI', 'aIeM', 'aIMe', 'aMeI', 'aMIe', 'eaIM', 'eaMI', 'eIaM', 'eIMa', 'eMaI', 'eMIa', 'IaeM', 'IaMe', 'IeaM', 'IeMa', 'IMae', 'IMea', 'MaeI', 'MaIe', 'MeaI', 'MeIa', 'MIae', 'MIea'], ['aE', 'Ea'], ['ai', 'ia'], ['am', 'ma'], ['Ei', 'iE'], ['Em', 'mE'], ['im', 'mi'], ['aEi', 'aiE', 'Eai', 'Eia', 'iaE', 'iEa'], ['aEm', 'amE', 'Eam', 'Ema', 'maE', 'mEa'], ['aim', 'ami', 'iam', 'ima', 'mai', 'mia'], ['Eim', 'Emi', 'iEm', 'imE', 'mEi', 'miE'], ['aEim', 'aEmi', 'aiEm', 'aimE', 'amEi', 'amiE', 'Eaim', 'Eami', 'Eiam', 'Eima', 'Emai', 'Emia', 'iaEm', 'iamE', 'iEam', 'iEma', 'imaE', 'imEa', 'maEi', 'maiE', 'mEai', 'mEia', 'miaE', 'miEa'], ['aE', 'Ea'], ['ai', 'ia'], ['aM', 'Ma'], ['Ei', 'iE'], ['EM', 'ME'], ['iM', 'Mi'], ['aEi', 'aiE', 'Eai', 'Eia', 'iaE', 'iEa'], ['aEM', 'aME', 'EaM', 'EMa', 'MaE', 'MEa'], ['aiM', 'aMi', 'iaM', 'iMa', 'Mai', 'Mia'], ['EiM', 'EMi', 'iEM', 'iME', 'MEi', 'MiE'], ['aEiM', 'aEMi', 'aiEM', 'aiME', 'aMEi', 'aMiE', 'EaiM', 'EaMi', 'EiaM', 'EiMa', 'EMai', 'EMia', 'iaEM', 'iaME', 'iEaM', 'iEMa', 'iMaE', 'iMEa', 'MaEi', 'MaiE', 'MEai', 'MEia', 'MiaE', 'MiEa'], ['aE', 'Ea'], ['aI', 'Ia'], ['am', 'ma'], ['EI', 'IE'], ['Em', 'mE'], ['Im', 'mI'], ['aEI', 'aIE', 'EaI', 'EIa', 'IaE', 'IEa'], ['aEm', 'amE', 'Eam', 'Ema', 'maE', 'mEa'], ['aIm', 'amI', 'Iam', 'Ima', 'maI', 'mIa'], ['EIm', 'EmI', 'IEm', 'ImE', 'mEI', 'mIE'], ['aEIm', 'aEmI', 'aIEm', 'aImE', 'amEI', 'amIE', 'EaIm', 'EamI', 'EIam', 'EIma', 'EmaI', 'EmIa', 'IaEm', 'IamE', 'IEam', 'IEma', 'ImaE', 'ImEa', 'maEI', 'maIE', 'mEaI', 'mEIa', 'mIaE', 'mIEa'], ['aE', 'Ea'], ['aI', 'Ia'], ['aM', 'Ma'], ['EI', 'IE'], ['EM', 'ME'], ['IM', 'MI'], ['aEI', 'aIE', 'EaI', 'EIa', 'IaE', 'IEa'], ['aEM', 'aME', 'EaM', 'EMa', 'MaE', 'MEa'], ['aIM', 'aMI', 'IaM', 'IMa', 'MaI', 'MIa'], ['EIM', 'EMI', 'IEM', 'IME', 'MEI', 'MIE'], ['aEIM', 'aEMI', 'aIEM', 'aIME', 'aMEI', 'aMIE', 'EaIM', 'EaMI', 'EIaM', 'EIMa', 'EMaI', 'EMIa', 'IaEM', 'IaME', 'IEaM', 'IEMa', 'IMaE', 'IMEa', 'MaEI', 'MaIE', 'MEaI', 'MEIa', 'MIaE', 'MIEa'], ['bf', 'fb'], ['bj', 'jb'], ['bn', 'nb'], ['fj', 'jf'], ['fn', 'nf'], ['jn', 'nj'], ['bfj', 'bjf', 'fbj', 'fjb', 'jbf', 'jfb'], ['bfn', 'bnf', 'fbn', 'fnb', 'nbf', 'nfb'], ['bjn', 'bnj', 'jbn', 'jnb', 'nbj', 'njb'], ['fjn', 'fnj', 'jfn', 'jnf', 'nfj', 'njf'], ['bfjn', 'bfnj', 'bjfn', 'bjnf', 'bnfj', 'bnjf', 'fbjn', 'fbnj', 'fjbn', 'fjnb', 'fnbj', 'fnjb', 'jbfn', 'jbnf', 'jfbn', 'jfnb', 'jnbf', 'jnfb', 'nbfj', 'nbjf', 'nfbj', 'nfjb', 'njbf', 'njfb'], ['bf', 'fb'], ['bj', 'jb'], ['bN', 'Nb'], ['fj', 'jf'], ['fN', 'Nf'], ['jN', 'Nj'], ['bfj', 'bjf', 'fbj', 'fjb', 'jbf', 'jfb'], ['bfN', 'bNf', 'fbN', 'fNb', 'Nbf', 'Nfb'], ['bjN', 'bNj', 'jbN', 'jNb', 'Nbj', 'Njb'], ['fjN', 'fNj', 'jfN', 'jNf', 'Nfj', 'Njf'], ['bfjN', 'bfNj', 'bjfN', 'bjNf', 'bNfj', 'bNjf', 'fbjN', 'fbNj', 'fjbN', 'fjNb', 'fNbj', 'fNjb', 'jbfN', 'jbNf', 'jfbN', 'jfNb', 'jNbf', 'jNfb', 'Nbfj', 'Nbjf', 'Nfbj', 'Nfjb', 'Njbf', 'Njfb'], ['bf', 'fb'], ['bJ', 'Jb'], ['bn', 'nb'], ['fJ', 'Jf'], ['fn', 'nf'], ['Jn', 'nJ'], ['bfJ', 'bJf', 'fbJ', 'fJb', 'Jbf', 'Jfb'], ['bfn', 'bnf', 'fbn', 'fnb', 'nbf', 'nfb'], ['bJn', 'bnJ', 'Jbn', 'Jnb', 'nbJ', 'nJb'], ['fJn', 'fnJ', 'Jfn', 'Jnf', 'nfJ', 'nJf'], ['bfJn', 'bfnJ', 'bJfn', 'bJnf', 'bnfJ', 'bnJf', 'fbJn', 'fbnJ', 'fJbn', 'fJnb', 'fnbJ', 'fnJb', 'Jbfn', 'Jbnf', 'Jfbn', 'Jfnb', 'Jnbf', 'Jnfb', 'nbfJ', 'nbJf', 'nfbJ', 'nfJb', 'nJbf', 'nJfb'], ['bf', 'fb'], ['bJ', 'Jb'], ['bN', 'Nb'], ['fJ', 'Jf'], ['fN', 'Nf'], ['JN', 'NJ'], ['bfJ', 'bJf', 'fbJ', 'fJb', 'Jbf', 'Jfb'], ['bfN', 'bNf', 'fbN', 'fNb', 'Nbf', 'Nfb'], ['bJN', 'bNJ', 'JbN', 'JNb', 'NbJ', 'NJb'], ['fJN', 'fNJ', 'JfN', 'JNf', 'NfJ', 'NJf'], ['bfJN', 'bfNJ', 'bJfN', 'bJNf', 'bNfJ', 'bNJf', 'fbJN', 'fbNJ', 'fJbN', 'fJNb', 'fNbJ', 'fNJb', 'JbfN', 'JbNf', 'JfbN', 'JfNb', 'JNbf', 'JNfb', 'NbfJ', 'NbJf', 'NfbJ', 'NfJb', 'NJbf', 'NJfb'], ['bF', 'Fb'], ['bj', 'jb'], ['bn', 'nb'], ['Fj', 'jF'], ['Fn', 'nF'], ['jn', 'nj'], ['bFj', 'bjF', 'Fbj', 'Fjb', 'jbF', 'jFb'], ['bFn', 'bnF', 'Fbn', 'Fnb', 'nbF', 'nFb'], ['bjn', 'bnj', 'jbn', 'jnb', 'nbj', 'njb'], ['Fjn', 'Fnj', 'jFn', 'jnF', 'nFj', 'njF'], ['bFjn', 'bFnj', 'bjFn', 'bjnF', 'bnFj', 'bnjF', 'Fbjn', 'Fbnj', 'Fjbn', 'Fjnb', 'Fnbj', 'Fnjb', 'jbFn', 'jbnF', 'jFbn', 'jFnb', 'jnbF', 'jnFb', 'nbFj', 'nbjF', 'nFbj', 'nFjb', 'njbF', 'njFb'], ['bF', 'Fb'], ['bj', 'jb'], ['bN', 'Nb'], ['Fj', 'jF'], ['FN', 'NF'], ['jN', 'Nj'], ['bFj', 'bjF', 'Fbj', 'Fjb', 'jbF', 'jFb'], ['bFN', 'bNF', 'FbN', 'FNb', 'NbF', 'NFb'], ['bjN', 'bNj', 'jbN', 'jNb', 'Nbj', 'Njb'], ['FjN', 'FNj', 'jFN', 'jNF', 'NFj', 'NjF'], ['bFjN', 'bFNj', 'bjFN', 'bjNF', 'bNFj', 'bNjF', 'FbjN', 'FbNj', 'FjbN', 'FjNb', 'FNbj', 'FNjb', 'jbFN', 'jbNF', 'jFbN', 'jFNb', 'jNbF', 'jNFb', 'NbFj', 'NbjF', 'NFbj', 'NFjb', 'NjbF', 'NjFb'], ['bF', 'Fb'], ['bJ', 'Jb'], ['bn', 'nb'], ['FJ', 'JF'], ['Fn', 'nF'], ['Jn', 'nJ'], ['bFJ', 'bJF', 'FbJ', 'FJb', 'JbF', 'JFb'], ['bFn', 'bnF', 'Fbn', 'Fnb', 'nbF', 'nFb'], ['bJn', 'bnJ', 'Jbn', 'Jnb', 'nbJ', 'nJb'], ['FJn', 'FnJ', 'JFn', 'JnF', 'nFJ', 'nJF'], ['bFJn', 'bFnJ', 'bJFn', 'bJnF', 'bnFJ', 'bnJF', 'FbJn', 'FbnJ', 'FJbn', 'FJnb', 'FnbJ', 'FnJb', 'JbFn', 'JbnF', 'JFbn', 'JFnb', 'JnbF', 'JnFb', 'nbFJ', 'nbJF', 'nFbJ', 'nFJb', 'nJbF', 'nJFb'], ['bF', 'Fb'], ['bJ', 'Jb'], ['bN', 'Nb'], ['FJ', 'JF'], ['FN', 'NF'], ['JN', 'NJ'], ['bFJ', 'bJF', 'FbJ', 'FJb', 'JbF', 'JFb'], ['bFN', 'bNF', 'FbN', 'FNb', 'NbF', 'NFb'], ['bJN', 'bNJ', 'JbN', 'JNb', 'NbJ', 'NJb'], ['FJN', 'FNJ', 'JFN', 'JNF', 'NFJ', 'NJF'], ['bFJN', 'bFNJ', 'bJFN', 'bJNF', 'bNFJ', 'bNJF', 'FbJN', 'FbNJ', 'FJbN', 'FJNb', 'FNbJ', 'FNJb', 'JbFN', 'JbNF', 'JFbN', 'JFNb', 'JNbF', 'JNFb', 'NbFJ', 'NbJF', 'NFbJ', 'NFJb', 'NJbF', 'NJFb'], ['cg', 'gc'], ['ck', 'kc'], ['co', 'oc'], ['gk', 'kg'], ['go', 'og'], ['ko', 'ok'], ['cgk', 'ckg', 'gck', 'gkc', 'kcg', 'kgc'], ['cgo', 'cog', 'gco', 'goc', 'ocg', 'ogc'], ['cko', 'cok', 'kco', 'koc', 'ock', 'okc'], ['gko', 'gok', 'kgo', 'kog', 'ogk', 'okg'], ['cgko', 'cgok', 'ckgo', 'ckog', 'cogk', 'cokg', 'gcko', 'gcok', 'gkco', 'gkoc', 'gock', 'gokc', 'kcgo', 'kcog', 'kgco', 'kgoc', 'kocg', 'kogc', 'ocgk', 'ockg', 'ogck', 'ogkc', 'okcg', 'okgc'], ['cg', 'gc'], ['ck', 'kc'], ['cO', 'Oc'], ['gk', 'kg'], ['gO', 'Og'], ['kO', 'Ok'], ['cgk', 'ckg', 'gck', 'gkc', 'kcg', 'kgc'], ['cgO', 'cOg', 'gcO', 'gOc', 'Ocg', 'Ogc'], ['ckO', 'cOk', 'kcO', 'kOc', 'Ock', 'Okc'], ['gkO', 'gOk', 'kgO', 'kOg', 'Ogk', 'Okg'], ['cgkO', 'cgOk', 'ckgO', 'ckOg', 'cOgk', 'cOkg', 'gckO', 'gcOk', 'gkcO', 'gkOc', 'gOck', 'gOkc', 'kcgO', 'kcOg', 'kgcO', 'kgOc', 'kOcg', 'kOgc', 'Ocgk', 'Ockg', 'Ogck', 'Ogkc', 'Okcg', 'Okgc'], ['cg', 'gc'], ['cK', 'Kc'], ['co', 'oc'], ['gK', 'Kg'], ['go', 'og'], ['Ko', 'oK'], ['cgK', 'cKg', 'gcK', 'gKc', 'Kcg', 'Kgc'], ['cgo', 'cog', 'gco', 'goc', 'ocg', 'ogc'], ['cKo', 'coK', 'Kco', 'Koc', 'ocK', 'oKc'], ['gKo', 'goK', 'Kgo', 'Kog', 'ogK', 'oKg'], ['cgKo', 'cgoK', 'cKgo', 'cKog', 'cogK', 'coKg', 'gcKo', 'gcoK', 'gKco', 'gKoc', 'gocK', 'goKc', 'Kcgo', 'Kcog', 'Kgco', 'Kgoc', 'Kocg', 'Kogc', 'ocgK', 'ocKg', 'ogcK', 'ogKc', 'oKcg', 'oKgc'], ['cg', 'gc'], ['cK', 'Kc'], ['cO', 'Oc'], ['gK', 'Kg'], ['gO', 'Og'], ['KO', 'OK'], ['cgK', 'cKg', 'gcK', 'gKc', 'Kcg', 'Kgc'], ['cgO', 'cOg', 'gcO', 'gOc', 'Ocg', 'Ogc'], ['cKO', 'cOK', 'KcO', 'KOc', 'OcK', 'OKc'], ['gKO', 'gOK', 'KgO', 'KOg', 'OgK', 'OKg'], ['cgKO', 'cgOK', 'cKgO', 'cKOg', 'cOgK', 'cOKg', 'gcKO', 'gcOK', 'gKcO', 'gKOc', 'gOcK', 'gOKc', 'KcgO', 'KcOg', 'KgcO', 'KgOc', 'KOcg', 'KOgc', 'OcgK', 'OcKg', 'OgcK', 'OgKc', 'OKcg', 'OKgc'], ['cG', 'Gc'], ['ck', 'kc'], ['co', 'oc'], ['Gk', 'kG'], ['Go', 'oG'], ['ko', 'ok'], ['cGk', 'ckG', 'Gck', 'Gkc', 'kcG', 'kGc'], ['cGo', 'coG', 'Gco', 'Goc', 'ocG', 'oGc'], ['cko', 'cok', 'kco', 'koc', 'ock', 'okc'], ['Gko', 'Gok', 'kGo', 'koG', 'oGk', 'okG'], ['cGko', 'cGok', 'ckGo', 'ckoG', 'coGk', 'cokG', 'Gcko', 'Gcok', 'Gkco', 'Gkoc', 'Gock', 'Gokc', 'kcGo', 'kcoG', 'kGco', 'kGoc', 'kocG', 'koGc', 'ocGk', 'ockG', 'oGck', 'oGkc', 'okcG', 'okGc'], ['cG', 'Gc'], ['ck', 'kc'], ['cO', 'Oc'], ['Gk', 'kG'], ['GO', 'OG'], ['kO', 'Ok'], ['cGk', 'ckG', 'Gck', 'Gkc', 'kcG', 'kGc'], ['cGO', 'cOG', 'GcO', 'GOc', 'OcG', 'OGc'], ['ckO', 'cOk', 'kcO', 'kOc', 'Ock', 'Okc'], ['GkO', 'GOk', 'kGO', 'kOG', 'OGk', 'OkG'], ['cGkO', 'cGOk', 'ckGO', 'ckOG', 'cOGk', 'cOkG', 'GckO', 'GcOk', 'GkcO', 'GkOc', 'GOck', 'GOkc', 'kcGO', 'kcOG', 'kGcO', 'kGOc', 'kOcG', 'kOGc', 'OcGk', 'OckG', 'OGck', 'OGkc', 'OkcG', 'OkGc'], ['cG', 'Gc'], ['cK', 'Kc'], ['co', 'oc'], ['GK', 'KG'], ['Go', 'oG'], ['Ko', 'oK'], ['cGK', 'cKG', 'GcK', 'GKc', 'KcG', 'KGc'], ['cGo', 'coG', 'Gco', 'Goc', 'ocG', 'oGc'], ['cKo', 'coK', 'Kco', 'Koc', 'ocK', 'oKc'], ['GKo', 'GoK', 'KGo', 'KoG', 'oGK', 'oKG'], ['cGKo', 'cGoK', 'cKGo', 'cKoG', 'coGK', 'coKG', 'GcKo', 'GcoK', 'GKco', 'GKoc', 'GocK', 'GoKc', 'KcGo', 'KcoG', 'KGco', 'KGoc', 'KocG', 'KoGc', 'ocGK', 'ocKG', 'oGcK', 'oGKc', 'oKcG', 'oKGc'], ['cG', 'Gc'], ['cK', 'Kc'], ['cO', 'Oc'], ['GK', 'KG'], ['GO', 'OG'], ['KO', 'OK'], ['cGK', 'cKG', 'GcK', 'GKc', 'KcG', 'KGc'], ['cGO', 'cOG', 'GcO', 'GOc', 'OcG', 'OGc'], ['cKO', 'cOK', 'KcO', 'KOc', 'OcK', 'OKc'], ['GKO', 'GOK', 'KGO', 'KOG', 'OGK', 'OKG'], ['cGKO', 'cGOK', 'cKGO', 'cKOG', 'cOGK', 'cOKG', 'GcKO', 'GcOK', 'GKcO', 'GKOc', 'GOcK', 'GOKc', 'KcGO', 'KcOG', 'KGcO', 'KGOc', 'KOcG', 'KOGc', 'OcGK', 'OcKG', 'OGcK', 'OGKc', 'OKcG', 'OKGc'], ['dh', 'hd'], ['dl', 'ld'], ['dp', 'pd'], ['hl', 'lh'], ['hp', 'ph'], ['lp', 'pl'], ['dhl', 'dlh', 'hdl', 'hld', 'ldh', 'lhd'], ['dhp', 'dph', 'hdp', 'hpd', 'pdh', 'phd'], ['dlp', 'dpl', 'ldp', 'lpd', 'pdl', 'pld'], ['hlp', 'hpl', 'lhp', 'lph', 'phl', 'plh'], ['dhlp', 'dhpl', 'dlhp', 'dlph', 'dphl', 'dplh', 'hdlp', 'hdpl', 'hldp', 'hlpd', 'hpdl', 'hpld', 'ldhp', 'ldph', 'lhdp', 'lhpd', 'lpdh', 'lphd', 'pdhl', 'pdlh', 'phdl', 'phld', 'pldh', 'plhd'], ['dh', 'hd'], ['dl', 'ld'], ['dP', 'Pd'], ['hl', 'lh'], ['hP', 'Ph'], ['lP', 'Pl'], ['dhl', 'dlh', 'hdl', 'hld', 'ldh', 'lhd'], ['dhP', 'dPh', 'hdP', 'hPd', 'Pdh', 'Phd'], ['dlP', 'dPl', 'ldP', 'lPd', 'Pdl', 'Pld'], ['hlP', 'hPl', 'lhP', 'lPh', 'Phl', 'Plh'], ['dhlP', 'dhPl', 'dlhP', 'dlPh', 'dPhl', 'dPlh', 'hdlP', 'hdPl', 'hldP', 'hlPd', 'hPdl', 'hPld', 'ldhP', 'ldPh', 'lhdP', 'lhPd', 'lPdh', 'lPhd', 'Pdhl', 'Pdlh', 'Phdl', 'Phld', 'Pldh', 'Plhd'], ['dh', 'hd'], ['dL', 'Ld'], ['dp', 'pd'], ['hL', 'Lh'], ['hp', 'ph'], ['Lp', 'pL'], ['dhL', 'dLh', 'hdL', 'hLd', 'Ldh', 'Lhd'], ['dhp', 'dph', 'hdp', 'hpd', 'pdh', 'phd'], ['dLp', 'dpL', 'Ldp', 'Lpd', 'pdL', 'pLd'], ['hLp', 'hpL', 'Lhp', 'Lph', 'phL', 'pLh'], ['dhLp', 'dhpL', 'dLhp', 'dLph', 'dphL', 'dpLh', 'hdLp', 'hdpL', 'hLdp', 'hLpd', 'hpdL', 'hpLd', 'Ldhp', 'Ldph', 'Lhdp', 'Lhpd', 'Lpdh', 'Lphd', 'pdhL', 'pdLh', 'phdL', 'phLd', 'pLdh', 'pLhd'], ['dh', 'hd'], ['dL', 'Ld'], ['dP', 'Pd'], ['hL', 'Lh'], ['hP', 'Ph'], ['LP', 'PL'], ['dhL', 'dLh', 'hdL', 'hLd', 'Ldh', 'Lhd'], ['dhP', 'dPh', 'hdP', 'hPd', 'Pdh', 'Phd'], ['dLP', 'dPL', 'LdP', 'LPd', 'PdL', 'PLd'], ['hLP', 'hPL', 'LhP', 'LPh', 'PhL', 'PLh'], ['dhLP', 'dhPL', 'dLhP', 'dLPh', 'dPhL', 'dPLh', 'hdLP', 'hdPL', 'hLdP', 'hLPd', 'hPdL', 'hPLd', 'LdhP', 'LdPh', 'LhdP', 'LhPd', 'LPdh', 'LPhd', 'PdhL', 'PdLh', 'PhdL', 'PhLd', 'PLdh', 'PLhd'], ['dH', 'Hd'], ['dl', 'ld'], ['dp', 'pd'], ['Hl', 'lH'], ['Hp', 'pH'], ['lp', 'pl'], ['dHl', 'dlH', 'Hdl', 'Hld', 'ldH', 'lHd'], ['dHp', 'dpH', 'Hdp', 'Hpd', 'pdH', 'pHd'], ['dlp', 'dpl', 'ldp', 'lpd', 'pdl', 'pld'], ['Hlp', 'Hpl', 'lHp', 'lpH', 'pHl', 'plH'], ['dHlp', 'dHpl', 'dlHp', 'dlpH', 'dpHl', 'dplH', 'Hdlp', 'Hdpl', 'Hldp', 'Hlpd', 'Hpdl', 'Hpld', 'ldHp', 'ldpH', 'lHdp', 'lHpd', 'lpdH', 'lpHd', 'pdHl', 'pdlH', 'pHdl', 'pHld', 'pldH', 'plHd'], ['dH', 'Hd'], ['dl', 'ld'], ['dP', 'Pd'], ['Hl', 'lH'], ['HP', 'PH'], ['lP', 'Pl'], ['dHl', 'dlH', 'Hdl', 'Hld', 'ldH', 'lHd'], ['dHP', 'dPH', 'HdP', 'HPd', 'PdH', 'PHd'], ['dlP', 'dPl', 'ldP', 'lPd', 'Pdl', 'Pld'], ['HlP', 'HPl', 'lHP', 'lPH', 'PHl', 'PlH'], ['dHlP', 'dHPl', 'dlHP', 'dlPH', 'dPHl', 'dPlH', 'HdlP', 'HdPl', 'HldP', 'HlPd', 'HPdl', 'HPld', 'ldHP', 'ldPH', 'lHdP', 'lHPd', 'lPdH', 'lPHd', 'PdHl', 'PdlH', 'PHdl', 'PHld', 'PldH', 'PlHd'], ['dH', 'Hd'], ['dL', 'Ld'], ['dp', 'pd'], ['HL', 'LH'], ['Hp', 'pH'], ['Lp', 'pL'], ['dHL', 'dLH', 'HdL', 'HLd', 'LdH', 'LHd'], ['dHp', 'dpH', 'Hdp', 'Hpd', 'pdH', 'pHd'], ['dLp', 'dpL', 'Ldp', 'Lpd', 'pdL', 'pLd'], ['HLp', 'HpL', 'LHp', 'LpH', 'pHL', 'pLH'], ['dHLp', 'dHpL', 'dLHp', 'dLpH', 'dpHL', 'dpLH', 'HdLp', 'HdpL', 'HLdp', 'HLpd', 'HpdL', 'HpLd', 'LdHp', 'LdpH', 'LHdp', 'LHpd', 'LpdH', 'LpHd', 'pdHL', 'pdLH', 'pHdL', 'pHLd', 'pLdH', 'pLHd'], ['dH', 'Hd'], ['dL', 'Ld'], ['dP', 'Pd'], ['HL', 'LH'], ['HP', 'PH'], ['LP', 'PL'], ['dHL', 'dLH', 'HdL', 'HLd', 'LdH', 'LHd'], ['dHP', 'dPH', 'HdP', 'HPd', 'PdH', 'PHd'], ['dLP', 'dPL', 'LdP', 'LPd', 'PdL', 'PLd'], ['HLP', 'HPL', 'LHP', 'LPH', 'PHL', 'PLH'], ['dHLP', 'dHPL', 'dLHP', 'dLPH', 'dPHL', 'dPLH', 'HdLP', 'HdPL', 'HLdP', 'HLPd', 'HPdL', 'HPLd', 'LdHP', 'LdPH', 'LHdP', 'LHPd', 'LPdH', 'LPHd', 'PdHL', 'PdLH', 'PHdL', 'PHLd', 'PLdH', 'PLHd']]\n"
     ]
    },
    {
     "name": "stdout",
     "output_type": "stream",
     "text": [
      "Enter any key to exit: l;\n"
     ]
    }
   ],
   "source": [
    "from itertools import permutations, combinations\n",
    "\n",
    "groups = [list() for i in range(4)]\n",
    "n = int(input(\"Enter Number of groups : \"))\n",
    "\n",
    "for i in range(n):\n",
    "    group = input(\"Enter words of group %d : \" %(i+1)).split(\" \")\n",
    "    for j in range(4):\n",
    "        groups[j].append([group[j], group[j+4]])\n",
    "\n",
    "indexes = [list(0 for i in range(n)) for i in range(4)]\n",
    "\n",
    "results = []\n",
    "\n",
    "\n",
    "# Iterate through whole combinations of words from each group\n",
    "for index in range(4):\n",
    "    finished = False\n",
    "    curr_group = groups[index]\n",
    "    curr_index = indexes[index]\n",
    "\n",
    "    while not finished:        \n",
    "        # Pick one word from each group\n",
    "        hands = []\n",
    "        for idx in range(n):\n",
    "            hands.append(curr_group[idx][curr_index[idx]])\n",
    "\n",
    "        # Generate words from hand (2 <= length)\n",
    "        for size in range(2, n+1):\n",
    "            combs = combinations(hands, size)\n",
    "            for comb in combs:\n",
    "                perms = [''.join(p) for p in permutations(comb)]\n",
    "                results.append(list(perms))\n",
    "\n",
    "        # Update index\n",
    "        idx = -1;\n",
    "        carry = True;\n",
    "        while(carry):\n",
    "            if(idx == -1 * n):\n",
    "                finished = True\n",
    "                break\n",
    "\n",
    "            if(curr_index[idx] != 1):\n",
    "                curr_index[idx] += 1\n",
    "                carry = False\n",
    "            else:\n",
    "                curr_index[idx] = 0\n",
    "                carry = True\n",
    "                idx -= 1\n",
    "                \n",
    "# Output result to text file (Sort by length not provided)\n",
    "out = open(\"result.txt\", \"w\", -1, 'utf-8')\n",
    "for word_set in results:\n",
    "    for word in word_set:\n",
    "        out.write(word)\n",
    "        out.write(\"\\n\")\n",
    "out.close()\n",
    "\n",
    "exit = input(\"Enter any key to exit: \")"
   ]
  },
  {
   "cell_type": "code",
   "execution_count": 1,
   "id": "3d102327",
   "metadata": {},
   "outputs": [
    {
     "name": "stdout",
     "output_type": "stream",
     "text": [
      "[[], [], [], []]\n"
     ]
    }
   ],
   "source": [
    "group = [list() for i in range(4)]\n",
    "\n",
    "print(group)"
   ]
  },
  {
   "cell_type": "code",
   "execution_count": null,
   "id": "5509edd0",
   "metadata": {},
   "outputs": [],
   "source": []
  }
 ],
 "metadata": {
  "kernelspec": {
   "display_name": "Python 3",
   "language": "python",
   "name": "python3"
  },
  "language_info": {
   "codemirror_mode": {
    "name": "ipython",
    "version": 3
   },
   "file_extension": ".py",
   "mimetype": "text/x-python",
   "name": "python",
   "nbconvert_exporter": "python",
   "pygments_lexer": "ipython3",
   "version": "3.7.10"
  }
 },
 "nbformat": 4,
 "nbformat_minor": 5
}
